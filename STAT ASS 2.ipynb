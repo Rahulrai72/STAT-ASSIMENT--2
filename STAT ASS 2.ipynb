{
 "cells": [
  {
   "cell_type": "code",
   "execution_count": null,
   "id": "8cae5c25-9f88-4a3e-8ed0-de6bfb4c8ca7",
   "metadata": {},
   "outputs": [],
   "source": [
    "###Q1 Q1. What are the three measures of central tendency?"
   ]
  },
  {
   "cell_type": "code",
   "execution_count": null,
   "id": "ec7202f0-3ce8-48ee-bd53-0a555f4cba9d",
   "metadata": {},
   "outputs": [],
   "source": [
    "###ANS 1 =\n",
    "1-Mean: It is the average of all the values in a dataset. It is calculated by summing up all the values and dividing by the total number of values.\n",
    "\n",
    "2-Median: It is the middle value when the data set is arranged in ascending order. It separates the higher half from the lower half of the data.\n",
    "\n",
    "3-Mode: It is the value that occurs most frequently in the dataset. There can be one mode (unimodal), multiple modes (multimodal), or no mode at all."
   ]
  },
  {
   "cell_type": "code",
   "execution_count": null,
   "id": "d2205f3c-b427-4ca5-9397-34b1fa3e4749",
   "metadata": {},
   "outputs": [],
   "source": [
    "### Q2. What is the difference between the mean, median, and mode? How are they used to measure the central tendency of a dataset?"
   ]
  },
  {
   "cell_type": "code",
   "execution_count": null,
   "id": "3304ab7e-789d-4c69-9037-89bcca369fc8",
   "metadata": {},
   "outputs": [],
   "source": [
    "### ANS 2=\n",
    "1-Mean: The mean provides an average value of the data. It is sensitive to outliers and can be skewed by extreme values.\n",
    "\n",
    "2-Median: The median is the middle value when the data is ordered. It is not affected by extreme values or outliers and provides a measure of central tendency that reflects the middle of the dataset.\n",
    "\n",
    "3-Mode: The mode is the most frequently occurring value. It is useful for identifying the most common category in categorical data.\n",
    "\n",
    "All three measures are used to give a sense of the \"typical\" value in a dataset, but they do so in different ways, making them appropriate for different types of data or situations."
   ]
  },
  {
   "cell_type": "code",
   "execution_count": null,
   "id": "bbb81415-e9f1-4f7d-8c35-b9ac0171352c",
   "metadata": {},
   "outputs": [],
   "source": [
    "### Q3. Measure the three measures of central tendency for the given height data:\n",
    "\n",
    "Data: [178, 177, 176, 177, 178.2, 178, 175, 179, 180, 175, 178.9, 176.2, 177, 172.5, 178, 176.5]"
   ]
  },
  {
   "cell_type": "code",
   "execution_count": null,
   "id": "e70f95a5-0743-4bb2-800a-c241fdec7d49",
   "metadata": {},
   "outputs": [],
   "source": [
    "### ANS 3\n",
    "-Mean-177.8\n",
    "Median: 177.5\n",
    "Mode: 178 "
   ]
  },
  {
   "cell_type": "code",
   "execution_count": null,
   "id": "0c4ef661-d9cc-4c41-8169-8c4fa4470683",
   "metadata": {},
   "outputs": [],
   "source": [
    "### Q4. Find the standard deviation for the given data:"
   ]
  },
  {
   "cell_type": "code",
   "execution_count": null,
   "id": "be35c44f-91e6-4094-b270-64bfbf37a67b",
   "metadata": {},
   "outputs": [],
   "source": [
    "### ANS 4-  standard deviation is  1.69."
   ]
  },
  {
   "cell_type": "code",
   "execution_count": null,
   "id": "fa201855-1820-4264-9261-635ac103555c",
   "metadata": {},
   "outputs": [],
   "source": [
    "### Q5. How are measures of dispersion such as range, variance, and standard deviation used to describe the spread of a dataset? Provide an example."
   ]
  },
  {
   "cell_type": "code",
   "execution_count": null,
   "id": "c6c88a22-a19a-46b1-859b-fd2d06866347",
   "metadata": {},
   "outputs": [],
   "source": [
    "### ANS 5- Range: It gives the difference between the highest and lowest values in a dataset. A larger range indicates greater variability. For example, in a class of students, if the tallest student is 190 cm and the shortest is 150 cm, the range of heights is 40 cm.\n",
    "\n",
    "Variance and Standard Deviation: They both provide a measure of the average deviation of data points from the mean. A larger variance or standard deviation indicates more spread. For example, in two sets of exam scores, Set A with scores (70, 71, 72, 73) and Set B with scores (50, 70, 90, 110), Set B has a higher variance and standard deviation, indicating more spread or dispersion"
   ]
  },
  {
   "cell_type": "code",
   "execution_count": null,
   "id": "b89097d3-c96c-4556-a264-6253cb9361a5",
   "metadata": {},
   "outputs": [],
   "source": [
    "### Q6. What is a Venn diagram?"
   ]
  },
  {
   "cell_type": "code",
   "execution_count": null,
   "id": "f4f70d90-ce9b-44ca-a884-901d9828531a",
   "metadata": {},
   "outputs": [],
   "source": [
    "### ANS 6- A6. A Venn diagram is a graphical representation used to show the relationship between different sets or groups. It consists of overlapping circles or ellipses, with each circle representing a set and the overlapping regions showing the elements that are common to both sets."
   ]
  },
  {
   "cell_type": "code",
   "execution_count": null,
   "id": "c12318a8-72e4-422a-9d49-0ff4f62ba1a5",
   "metadata": {},
   "outputs": [],
   "source": [
    "### Q7. For the two given sets A = (2,3,4,5,6,7) & B = (0,2,6,8,10). Find:\n",
    "\n",
    "(i) A ∩ B (Intersection): \n",
    "\n",
    "(ii) A ⋃ B (Union)"
   ]
  },
  {
   "cell_type": "code",
   "execution_count": null,
   "id": "92be0489-d723-4125-9e3d-43a7fcfe52f2",
   "metadata": {},
   "outputs": [],
   "source": [
    "### ANS 7-\n",
    "\n",
    "(i) A ∩ B (Intersection): {2, 6}\n",
    "\n",
    "(ii) A ⋃ B (Union): {0, 2, 3, 4, 5, 6, 7, 8, 10}"
   ]
  },
  {
   "cell_type": "code",
   "execution_count": null,
   "id": "545de1c7-87e1-4f97-b884-79cbe2984989",
   "metadata": {},
   "outputs": [],
   "source": [
    "### Q8. What do you understand about skewness in data?"
   ]
  },
  {
   "cell_type": "code",
   "execution_count": null,
   "id": "7e4a7605-c815-4299-8ca5-8f41ffa14d2f",
   "metadata": {},
   "outputs": [],
   "source": [
    "### ANS 8-\n",
    "Skewness is a measure of the asymmetry of the probability distribution of a real-valued random variable. In simpler terms, it tells us about the direction and extent of skew (departure from horizontal symmetry) in a dataset.\n",
    "\n",
    "Positive Skew (Right Skew): The data is stretched towards the right, indicating that the tail on the right side is longer or fatter than the left side. This means there are more extreme values on the right.\n",
    "\n",
    "Negative Skew (Left Skew): The data is stretched towards the left, indicating that the tail on the left side is longer or fatter than the right side. This means there are more extreme values on the left.\n",
    "\n",
    "\n"
   ]
  },
  {
   "cell_type": "code",
   "execution_count": null,
   "id": "a2e05333-49c6-49ee-961c-a14c055b9a12",
   "metadata": {},
   "outputs": [],
   "source": [
    "### Q9. If a data is right skewed then what will be the position of median with respect to mean?"
   ]
  },
  {
   "cell_type": "code",
   "execution_count": null,
   "id": "2c9fd396-cbb9-4b79-b7a1-c025ba511f55",
   "metadata": {},
   "outputs": [],
   "source": [
    "### ANS9- In a right-skewed distribution, the tail on the right side is longer, meaning there are more extreme values on the right. In such a case, the mean will be greater than the median"
   ]
  },
  {
   "cell_type": "code",
   "execution_count": null,
   "id": "1099d077-34d6-4229-aa35-507b9d40c488",
   "metadata": {},
   "outputs": [],
   "source": [
    "### Q10. Explain the difference between covariance and correlation. How are these measures used in statistical analysis"
   ]
  },
  {
   "cell_type": "code",
   "execution_count": null,
   "id": "43e1a4a1-2662-4273-945c-d57c64ad6514",
   "metadata": {},
   "outputs": [],
   "source": [
    "###- Covariance: Covariance is a measure of how two variables change together. It indicates the direction of the linear relationship between two variables. However, it doesn't provide the strength or the scale of the relationship.\n",
    "\n",
    "Correlation: Correlation is a standardized measure of the linear relationship between two variables. It not only tells us about the direction but also the strength and nature (positive or negative) of the relationship. It ranges from -1 to +1, with -1 indicating a perfect negative correlation, 0 indicating no linear correlation, and +1 indicating a perfect positive correlation.\n",
    "\n",
    "These measures are used in statistical analysis to understand the relationship between two variables. They are particularly useful in fields like economics, finance, and social sciences for modeling and making predictions based on observed data.\n",
    "\n"
   ]
  },
  {
   "cell_type": "code",
   "execution_count": null,
   "id": "f41f8d26-ffe8-40b1-b2f0-0e12be102b82",
   "metadata": {},
   "outputs": [],
   "source": [
    "### Q11. What is the formula for calculating the sample mean? Provide an example calculation for a dataset.\n",
    "\n"
   ]
  },
  {
   "cell_type": "code",
   "execution_count": null,
   "id": "4e9f37af-74bd-46ee-9c54-40024f8c4bdc",
   "metadata": {},
   "outputs": [],
   "source": [
    "### ANS- "
   ]
  }
 ],
 "metadata": {
  "kernelspec": {
   "display_name": "Python 3 (ipykernel)",
   "language": "python",
   "name": "python3"
  },
  "language_info": {
   "codemirror_mode": {
    "name": "ipython",
    "version": 3
   },
   "file_extension": ".py",
   "mimetype": "text/x-python",
   "name": "python",
   "nbconvert_exporter": "python",
   "pygments_lexer": "ipython3",
   "version": "3.10.8"
  }
 },
 "nbformat": 4,
 "nbformat_minor": 5
}
